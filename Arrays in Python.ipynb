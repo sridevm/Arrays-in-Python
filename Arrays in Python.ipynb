{
 "cells": [
  {
   "cell_type": "code",
   "execution_count": 1,
   "id": "a5c5fe36",
   "metadata": {},
   "outputs": [],
   "source": [
    "l = [223 , 333 , 5567, -9879]"
   ]
  },
  {
   "cell_type": "code",
   "execution_count": 2,
   "id": "d26511f4",
   "metadata": {},
   "outputs": [
    {
     "data": {
      "text/plain": [
       "[223, 333, 5567, -9879]"
      ]
     },
     "execution_count": 2,
     "metadata": {},
     "output_type": "execute_result"
    }
   ],
   "source": [
    "l"
   ]
  },
  {
   "cell_type": "code",
   "execution_count": 3,
   "id": "8541fd77",
   "metadata": {},
   "outputs": [
    {
     "data": {
      "text/plain": [
       "list"
      ]
     },
     "execution_count": 3,
     "metadata": {},
     "output_type": "execute_result"
    }
   ],
   "source": [
    "type(l)"
   ]
  },
  {
   "cell_type": "code",
   "execution_count": 4,
   "id": "f19afc89",
   "metadata": {},
   "outputs": [],
   "source": [
    "import numpy as np"
   ]
  },
  {
   "cell_type": "code",
   "execution_count": 5,
   "id": "34bb19a7",
   "metadata": {},
   "outputs": [
    {
     "data": {
      "text/plain": [
       "array([  223,   333,  5567, -9879])"
      ]
     },
     "execution_count": 5,
     "metadata": {},
     "output_type": "execute_result"
    }
   ],
   "source": [
    "np.array(l)"
   ]
  },
  {
   "cell_type": "code",
   "execution_count": 6,
   "id": "dbb2842d",
   "metadata": {},
   "outputs": [],
   "source": [
    "z= np.array(l)"
   ]
  },
  {
   "cell_type": "code",
   "execution_count": 7,
   "id": "511e89e1",
   "metadata": {},
   "outputs": [
    {
     "data": {
      "text/plain": [
       "array([  223,   333,  5567, -9879])"
      ]
     },
     "execution_count": 7,
     "metadata": {},
     "output_type": "execute_result"
    }
   ],
   "source": [
    "z"
   ]
  },
  {
   "cell_type": "code",
   "execution_count": 8,
   "id": "d83a3958",
   "metadata": {},
   "outputs": [
    {
     "ename": "NameError",
     "evalue": "name 'true' is not defined",
     "output_type": "error",
     "traceback": [
      "\u001b[1;31m---------------------------------------------------------------------------\u001b[0m",
      "\u001b[1;31mNameError\u001b[0m                                 Traceback (most recent call last)",
      "\u001b[1;32m~\\AppData\\Local\\Temp/ipykernel_33624/115092622.py\u001b[0m in \u001b[0;36m<module>\u001b[1;34m\u001b[0m\n\u001b[1;32m----> 1\u001b[1;33m \u001b[0mz\u001b[0m\u001b[1;33m=\u001b[0m \u001b[0mnp\u001b[0m\u001b[1;33m.\u001b[0m\u001b[0marray\u001b[0m \u001b[1;33m[\u001b[0m \u001b[1;36m22\u001b[0m \u001b[1;33m,\u001b[0m \u001b[0mtrue\u001b[0m \u001b[1;33m,\u001b[0m \u001b[1;34m'sarah'\u001b[0m\u001b[1;33m]\u001b[0m\u001b[1;33m\u001b[0m\u001b[1;33m\u001b[0m\u001b[0m\n\u001b[0m",
      "\u001b[1;31mNameError\u001b[0m: name 'true' is not defined"
     ]
    }
   ],
   "source": [
    "z= np.array [ 22 , True , 'sarah']"
   ]
  },
  {
   "cell_type": "code",
   "execution_count": 11,
   "id": "9897adb5",
   "metadata": {},
   "outputs": [],
   "source": [
    "z= np.array ([ 22 , True , 'sarah'])"
   ]
  },
  {
   "cell_type": "code",
   "execution_count": 12,
   "id": "4e5e1515",
   "metadata": {},
   "outputs": [
    {
     "data": {
      "text/plain": [
       "array(['22', 'True', 'sarah'], dtype='<U11')"
      ]
     },
     "execution_count": 12,
     "metadata": {},
     "output_type": "execute_result"
    }
   ],
   "source": [
    "z"
   ]
  },
  {
   "cell_type": "code",
   "execution_count": 13,
   "id": "db4f19ae",
   "metadata": {},
   "outputs": [
    {
     "name": "stdout",
     "output_type": "stream",
     "text": [
      "['22' 'True' 'sarah']\n"
     ]
    }
   ],
   "source": [
    "print(z)"
   ]
  },
  {
   "cell_type": "code",
   "execution_count": 14,
   "id": "2816aa03",
   "metadata": {},
   "outputs": [
    {
     "data": {
      "text/plain": [
       "[223, 333, 5567, -9879]"
      ]
     },
     "execution_count": 14,
     "metadata": {},
     "output_type": "execute_result"
    }
   ],
   "source": [
    "l"
   ]
  },
  {
   "cell_type": "code",
   "execution_count": 17,
   "id": "ccf6341e",
   "metadata": {},
   "outputs": [
    {
     "ename": "TypeError",
     "evalue": "list.count() takes exactly one argument (0 given)",
     "output_type": "error",
     "traceback": [
      "\u001b[1;31m---------------------------------------------------------------------------\u001b[0m",
      "\u001b[1;31mTypeError\u001b[0m                                 Traceback (most recent call last)",
      "\u001b[1;32m~\\AppData\\Local\\Temp/ipykernel_33624/3590848569.py\u001b[0m in \u001b[0;36m<module>\u001b[1;34m\u001b[0m\n\u001b[1;32m----> 1\u001b[1;33m \u001b[0ml\u001b[0m\u001b[1;33m.\u001b[0m\u001b[0mcount\u001b[0m\u001b[1;33m(\u001b[0m\u001b[1;33m)\u001b[0m\u001b[1;33m\u001b[0m\u001b[1;33m\u001b[0m\u001b[0m\n\u001b[0m",
      "\u001b[1;31mTypeError\u001b[0m: list.count() takes exactly one argument (0 given)"
     ]
    }
   ],
   "source": [
    "l.count()"
   ]
  },
  {
   "cell_type": "code",
   "execution_count": 18,
   "id": "609ccf44",
   "metadata": {},
   "outputs": [
    {
     "data": {
      "text/plain": [
       "-9879"
      ]
     },
     "execution_count": 18,
     "metadata": {},
     "output_type": "execute_result"
    }
   ],
   "source": [
    "l.pop()"
   ]
  },
  {
   "cell_type": "code",
   "execution_count": 19,
   "id": "c2be4990",
   "metadata": {},
   "outputs": [],
   "source": [
    "l.reverse()"
   ]
  },
  {
   "cell_type": "code",
   "execution_count": 20,
   "id": "45f6651c",
   "metadata": {},
   "outputs": [
    {
     "data": {
      "text/plain": [
       "[5567, 333, 223]"
      ]
     },
     "execution_count": 20,
     "metadata": {},
     "output_type": "execute_result"
    }
   ],
   "source": [
    "l"
   ]
  },
  {
   "cell_type": "code",
   "execution_count": 23,
   "id": "494e2038",
   "metadata": {},
   "outputs": [],
   "source": [
    "l.insert(1 , 444)"
   ]
  },
  {
   "cell_type": "code",
   "execution_count": 24,
   "id": "daa70b01",
   "metadata": {},
   "outputs": [
    {
     "data": {
      "text/plain": [
       "[5567, 444, 333, 223]"
      ]
     },
     "execution_count": 24,
     "metadata": {},
     "output_type": "execute_result"
    }
   ],
   "source": [
    "l"
   ]
  },
  {
   "cell_type": "code",
   "execution_count": 27,
   "id": "1bc9d942",
   "metadata": {},
   "outputs": [],
   "source": [
    "c= np.array([  223,   333,  5567, -9879])"
   ]
  },
  {
   "cell_type": "code",
   "execution_count": 28,
   "id": "2263b7de",
   "metadata": {},
   "outputs": [
    {
     "data": {
      "text/plain": [
       "array([  223,   333,  5567, -9879])"
      ]
     },
     "execution_count": 28,
     "metadata": {},
     "output_type": "execute_result"
    }
   ],
   "source": [
    "c"
   ]
  },
  {
   "cell_type": "code",
   "execution_count": 29,
   "id": "c54c35a9",
   "metadata": {},
   "outputs": [
    {
     "data": {
      "text/plain": [
       "-939.0"
      ]
     },
     "execution_count": 29,
     "metadata": {},
     "output_type": "execute_result"
    }
   ],
   "source": [
    "c.mean()"
   ]
  },
  {
   "cell_type": "code",
   "execution_count": 30,
   "id": "dcce7d1b",
   "metadata": {},
   "outputs": [
    {
     "data": {
      "text/plain": [
       "5567"
      ]
     },
     "execution_count": 30,
     "metadata": {},
     "output_type": "execute_result"
    }
   ],
   "source": [
    "c.max()"
   ]
  },
  {
   "cell_type": "code",
   "execution_count": 31,
   "id": "73dd8b12",
   "metadata": {},
   "outputs": [
    {
     "data": {
      "text/plain": [
       "-9879"
      ]
     },
     "execution_count": 31,
     "metadata": {},
     "output_type": "execute_result"
    }
   ],
   "source": [
    "c.min()"
   ]
  },
  {
   "cell_type": "code",
   "execution_count": 33,
   "id": "cb22f017",
   "metadata": {},
   "outputs": [
    {
     "data": {
      "text/plain": [
       "[5567, 444, 333, 223]"
      ]
     },
     "execution_count": 33,
     "metadata": {},
     "output_type": "execute_result"
    }
   ],
   "source": [
    "l"
   ]
  },
  {
   "cell_type": "code",
   "execution_count": 34,
   "id": "d7f14b8e",
   "metadata": {},
   "outputs": [
    {
     "data": {
      "text/plain": [
       "[5567, 444, 333, 223]"
      ]
     },
     "execution_count": 34,
     "metadata": {},
     "output_type": "execute_result"
    }
   ],
   "source": [
    "l[:]"
   ]
  },
  {
   "cell_type": "code",
   "execution_count": 35,
   "id": "3c5f35d9",
   "metadata": {},
   "outputs": [
    {
     "data": {
      "text/plain": [
       "[444, 333, 223]"
      ]
     },
     "execution_count": 35,
     "metadata": {},
     "output_type": "execute_result"
    }
   ],
   "source": [
    "l[1:]"
   ]
  },
  {
   "cell_type": "code",
   "execution_count": 36,
   "id": "e32fa9f0",
   "metadata": {},
   "outputs": [
    {
     "data": {
      "text/plain": [
       "[333, 223]"
      ]
     },
     "execution_count": 36,
     "metadata": {},
     "output_type": "execute_result"
    }
   ],
   "source": [
    "l[2:4]"
   ]
  },
  {
   "cell_type": "code",
   "execution_count": 38,
   "id": "d02cd7ea",
   "metadata": {},
   "outputs": [
    {
     "data": {
      "text/plain": [
       "array([  223,   333,  5567, -9879])"
      ]
     },
     "execution_count": 38,
     "metadata": {},
     "output_type": "execute_result"
    }
   ],
   "source": [
    "c"
   ]
  },
  {
   "cell_type": "code",
   "execution_count": 39,
   "id": "3bbc4508",
   "metadata": {},
   "outputs": [
    {
     "data": {
      "text/plain": [
       "array([ 5567, -9879])"
      ]
     },
     "execution_count": 39,
     "metadata": {},
     "output_type": "execute_result"
    }
   ],
   "source": [
    "c[2:4]"
   ]
  },
  {
   "cell_type": "code",
   "execution_count": 40,
   "id": "57f5672e",
   "metadata": {},
   "outputs": [],
   "source": [
    "c[2:4] = 222"
   ]
  },
  {
   "cell_type": "code",
   "execution_count": 41,
   "id": "9a8a8767",
   "metadata": {},
   "outputs": [
    {
     "data": {
      "text/plain": [
       "array([223, 333, 222, 222])"
      ]
     },
     "execution_count": 41,
     "metadata": {},
     "output_type": "execute_result"
    }
   ],
   "source": [
    "c"
   ]
  },
  {
   "cell_type": "code",
   "execution_count": 45,
   "id": "a348e983",
   "metadata": {},
   "outputs": [],
   "source": [
    "y = c.copy()"
   ]
  },
  {
   "cell_type": "code",
   "execution_count": 46,
   "id": "f3c2aafd",
   "metadata": {},
   "outputs": [
    {
     "data": {
      "text/plain": [
       "array([223, 333, 222, 222])"
      ]
     },
     "execution_count": 46,
     "metadata": {},
     "output_type": "execute_result"
    }
   ],
   "source": [
    "y"
   ]
  },
  {
   "cell_type": "code",
   "execution_count": 47,
   "id": "c4dbf0d9",
   "metadata": {},
   "outputs": [],
   "source": [
    "y [2:4] = 666"
   ]
  },
  {
   "cell_type": "code",
   "execution_count": 48,
   "id": "7fcebdda",
   "metadata": {},
   "outputs": [
    {
     "data": {
      "text/plain": [
       "array([223, 333, 666, 666])"
      ]
     },
     "execution_count": 48,
     "metadata": {},
     "output_type": "execute_result"
    }
   ],
   "source": [
    "y"
   ]
  },
  {
   "cell_type": "code",
   "execution_count": 49,
   "id": "76d338c5",
   "metadata": {},
   "outputs": [
    {
     "data": {
      "text/plain": [
       "array([223, 333, 222, 222])"
      ]
     },
     "execution_count": 49,
     "metadata": {},
     "output_type": "execute_result"
    }
   ],
   "source": [
    "c"
   ]
  },
  {
   "cell_type": "code",
   "execution_count": 50,
   "id": "0998c673",
   "metadata": {},
   "outputs": [
    {
     "data": {
      "text/plain": [
       "[5567, 444, 333, 223]"
      ]
     },
     "execution_count": 50,
     "metadata": {},
     "output_type": "execute_result"
    }
   ],
   "source": [
    "l"
   ]
  },
  {
   "cell_type": "code",
   "execution_count": 52,
   "id": "522ea87b",
   "metadata": {},
   "outputs": [
    {
     "data": {
      "text/plain": [
       "[333, 223]"
      ]
     },
     "execution_count": 52,
     "metadata": {},
     "output_type": "execute_result"
    }
   ],
   "source": [
    "l[2:4] "
   ]
  },
  {
   "cell_type": "code",
   "execution_count": 54,
   "id": "0406eda4",
   "metadata": {},
   "outputs": [],
   "source": [
    "l[2:4] = \"444\""
   ]
  },
  {
   "cell_type": "code",
   "execution_count": 55,
   "id": "710c1688",
   "metadata": {},
   "outputs": [
    {
     "data": {
      "text/plain": [
       "[5567, 444, '4', '4', '4']"
      ]
     },
     "execution_count": 55,
     "metadata": {},
     "output_type": "execute_result"
    }
   ],
   "source": [
    "l"
   ]
  },
  {
   "cell_type": "code",
   "execution_count": 56,
   "id": "76cb9664",
   "metadata": {},
   "outputs": [],
   "source": [
    "l[0] = 33"
   ]
  },
  {
   "cell_type": "code",
   "execution_count": 57,
   "id": "0188efa5",
   "metadata": {},
   "outputs": [
    {
     "data": {
      "text/plain": [
       "[33, 444, '4', '4', '4']"
      ]
     },
     "execution_count": 57,
     "metadata": {},
     "output_type": "execute_result"
    }
   ],
   "source": [
    "l"
   ]
  },
  {
   "cell_type": "code",
   "execution_count": null,
   "id": "09686168",
   "metadata": {},
   "outputs": [],
   "source": []
  }
 ],
 "metadata": {
  "kernelspec": {
   "display_name": "Python 3 (ipykernel)",
   "language": "python",
   "name": "python3"
  },
  "language_info": {
   "codemirror_mode": {
    "name": "ipython",
    "version": 3
   },
   "file_extension": ".py",
   "mimetype": "text/x-python",
   "name": "python",
   "nbconvert_exporter": "python",
   "pygments_lexer": "ipython3",
   "version": "3.9.7"
  }
 },
 "nbformat": 4,
 "nbformat_minor": 5
}
